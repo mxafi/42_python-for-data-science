{
 "cells": [
  {
   "cell_type": "markdown",
   "metadata": {},
   "source": [
    "# draw my year\n",
    "\n",
    "Create a program that calls the load function from the first exercise, loads the files \"income_per_person_gdppercapita_ppp_inflation_adjusted.csv\" and \"life_expectancy_years.csv\",\n",
    "and displays the projection of life expectancy in relation to the gross national product of\n",
    "the year 1900 for each country.\n",
    "Your graph must have a title, a legend for each axis and a legend for each graph.\n",
    "You must display the year 1900."
   ]
  },
  {
   "cell_type": "code",
   "execution_count": 53,
   "metadata": {},
   "outputs": [],
   "source": [
    "# init\n",
    "import pandas as pd\n",
    "from matplotlib import pyplot as plt\n",
    "from load_csv import load\n"
   ]
  },
  {
   "cell_type": "code",
   "execution_count": 54,
   "metadata": {},
   "outputs": [
    {
     "name": "stdout",
     "output_type": "stream",
     "text": [
      "Loading dataset of dimensions (195, 252)\n",
      "                  country  1800  1801  1802  1803  1804  1805  1806  1807  \\\n",
      "0             Afghanistan   683   683   683   683   683   683   683   683   \n",
      "1                  Angola   700   702   705   709   711   714   718   721   \n",
      "2                 Albania   755   755   755   755   755   756   756   756   \n",
      "3                 Andorra  1360  1360  1360  1360  1370  1370  1370  1370   \n",
      "4    United Arab Emirates  1130  1130  1140  1140  1150  1150  1160  1160   \n",
      "..                    ...   ...   ...   ...   ...   ...   ...   ...   ...   \n",
      "190                 Samoa  1590  1590  1590  1590  1590  1590  1590  1590   \n",
      "191                 Yemen   993   995   998  1000  1000  1010  1010  1010   \n",
      "192          South Africa  1780  1760  1740  1720  1700  1610  1610  1750   \n",
      "193                Zambia   751   753   755   756   758   760   762   764   \n",
      "194              Zimbabwe   984   985   986   987   988   989   991   992   \n",
      "\n",
      "     1808  ...   2041   2042   2043   2044   2045   2046   2047   2048   2049  \\\n",
      "0     683  ...   2690   2750   2810   2870   2930   2990   3060   3120   3190   \n",
      "1     725  ...   8000   8170   8350   8530   8710   8900   9090   9280   9480   \n",
      "2     756  ...  25.1k  25.6k  26.2k  26.7k  27.3k  27.9k  28.5k  29.1k  29.7k   \n",
      "3    1380  ...  68.9k  70.4k  71.9k  73.4k    75k  76.6k  78.3k    80k  81.7k   \n",
      "4    1160  ...   101k   103k   105k   107k   110k   112k   114k   117k   119k   \n",
      "..    ...  ...    ...    ...    ...    ...    ...    ...    ...    ...    ...   \n",
      "190  1590  ...   8860   9050   9250   9440   9650   9860  10.1k  10.3k  10.5k   \n",
      "191  1020  ...   3750   3830   3910   3990   4080   4170   4260   4350   4440   \n",
      "192  1530  ...  16.2k  16.6k  16.9k  17.3k  17.7k  18.1k  18.5k  18.8k  19.3k   \n",
      "193   765  ...   4690   4790   4890   5000   5110   5220   5330   5440   5560   \n",
      "194   993  ...   4890   4990   5100   5210   5320   5440   5560   5670   5800   \n",
      "\n",
      "      2050  \n",
      "0     3260  \n",
      "1     9690  \n",
      "2    30.4k  \n",
      "3    83.4k  \n",
      "4     122k  \n",
      "..     ...  \n",
      "190  10.7k  \n",
      "191   4540  \n",
      "192  19.7k  \n",
      "193   5680  \n",
      "194   5920  \n",
      "\n",
      "[195 rows x 252 columns]\n"
     ]
    }
   ],
   "source": [
    "# load income data\n",
    "df_income = load('income_per_person_gdppercapita_ppp_inflation_adjusted.csv')\n",
    "if (df_income is None):\n",
    "    print(\"Error loading income data\")\n",
    "    exit()\n",
    "print(df_income)"
   ]
  },
  {
   "cell_type": "code",
   "execution_count": 55,
   "metadata": {},
   "outputs": [
    {
     "name": "stdout",
     "output_type": "stream",
     "text": [
      "Loading dataset of dimensions (195, 302)\n",
      "                  country  1800  1801  1802  1803  1804  1805  1806  1807  \\\n",
      "0             Afghanistan  28.2  28.2  28.2  28.2  28.2  28.2  28.1  28.1   \n",
      "1                  Angola  27.0  27.0  27.0  27.0  27.0  27.0  27.0  27.0   \n",
      "2                 Albania  35.4  35.4  35.4  35.4  35.4  35.4  35.4  35.4   \n",
      "3                 Andorra   NaN   NaN   NaN   NaN   NaN   NaN   NaN   NaN   \n",
      "4    United Arab Emirates  30.7  30.7  30.7  30.7  30.7  30.7  30.7  30.7   \n",
      "..                    ...   ...   ...   ...   ...   ...   ...   ...   ...   \n",
      "190                 Samoa  25.4  25.4  25.4  25.4  25.4  25.4  25.4  25.4   \n",
      "191                 Yemen  23.4  23.4  23.4  23.4  23.4  23.4  23.4  23.4   \n",
      "192          South Africa  33.5  33.5  33.5  33.5  33.5  33.5  33.5  33.5   \n",
      "193                Zambia  32.6  32.6  32.6  32.6  32.6  32.6  32.6  32.6   \n",
      "194              Zimbabwe  33.7  33.7  33.7  33.7  33.7  33.7  33.7  33.7   \n",
      "\n",
      "     1808  ...  2091  2092  2093  2094  2095  2096  2097  2098  2099  2100  \n",
      "0    28.1  ...  75.5  75.7  75.8  76.0  76.1  76.2  76.4  76.5  76.6  76.8  \n",
      "1    27.0  ...  78.8  79.0  79.1  79.2  79.3  79.5  79.6  79.7  79.9  80.0  \n",
      "2    35.4  ...  87.4  87.5  87.6  87.7  87.8  87.9  88.0  88.2  88.3  88.4  \n",
      "3     NaN  ...   NaN   NaN   NaN   NaN   NaN   NaN   NaN   NaN   NaN   NaN  \n",
      "4    30.7  ...  82.4  82.5  82.6  82.7  82.8  82.9  83.0  83.1  83.2  83.3  \n",
      "..    ...  ...   ...   ...   ...   ...   ...   ...   ...   ...   ...   ...  \n",
      "190  25.4  ...  79.8  79.9  80.0  80.1  80.3  80.4  80.5  80.6  80.7  80.8  \n",
      "191  23.4  ...  76.9  77.0  77.1  77.3  77.4  77.5  77.6  77.8  77.9  78.0  \n",
      "192  33.5  ...  76.4  76.5  76.7  76.8  77.0  77.1  77.3  77.4  77.5  77.7  \n",
      "193  32.6  ...  75.8  76.0  76.1  76.3  76.4  76.5  76.7  76.8  77.0  77.1  \n",
      "194  33.7  ...  73.3  73.4  73.5  73.7  73.8  73.9  74.0  74.2  74.3  74.4  \n",
      "\n",
      "[195 rows x 302 columns]\n"
     ]
    }
   ],
   "source": [
    "# load lifespan data\n",
    "df_lifespan = load('life_expectancy_years.csv')\n",
    "if (df_lifespan is None):\n",
    "    print(\"Error loading lifespan data\")\n",
    "    exit()\n",
    "print(df_lifespan)"
   ]
  },
  {
   "cell_type": "code",
   "execution_count": 56,
   "metadata": {},
   "outputs": [
    {
     "name": "stdout",
     "output_type": "stream",
     "text": [
      "                      1800  1801  1802  1803  1804  1805  1806  1807  1808  \\\n",
      "country                                                                      \n",
      "Afghanistan            683   683   683   683   683   683   683   683   683   \n",
      "Angola                 700   702   705   709   711   714   718   721   725   \n",
      "Albania                755   755   755   755   755   756   756   756   756   \n",
      "Andorra               1360  1360  1360  1360  1370  1370  1370  1370  1380   \n",
      "United Arab Emirates  1130  1130  1140  1140  1150  1150  1160  1160  1160   \n",
      "...                    ...   ...   ...   ...   ...   ...   ...   ...   ...   \n",
      "Samoa                 1590  1590  1590  1590  1590  1590  1590  1590  1590   \n",
      "Yemen                  993   995   998  1000  1000  1010  1010  1010  1020   \n",
      "South Africa          1780  1760  1740  1720  1700  1610  1610  1750  1530   \n",
      "Zambia                 751   753   755   756   758   760   762   764   765   \n",
      "Zimbabwe               984   985   986   987   988   989   991   992   993   \n",
      "\n",
      "                      1809  ...   2041   2042   2043   2044   2045   2046  \\\n",
      "country                     ...                                             \n",
      "Afghanistan            683  ...   2690   2750   2810   2870   2930   2990   \n",
      "Angola                 727  ...   8000   8170   8350   8530   8710   8900   \n",
      "Albania                756  ...  25.1k  25.6k  26.2k  26.7k  27.3k  27.9k   \n",
      "Andorra               1380  ...  68.9k  70.4k  71.9k  73.4k    75k  76.6k   \n",
      "United Arab Emirates  1170  ...   101k   103k   105k   107k   110k   112k   \n",
      "...                    ...  ...    ...    ...    ...    ...    ...    ...   \n",
      "Samoa                 1590  ...   8860   9050   9250   9440   9650   9860   \n",
      "Yemen                 1020  ...   3750   3830   3910   3990   4080   4170   \n",
      "South Africa          1490  ...  16.2k  16.6k  16.9k  17.3k  17.7k  18.1k   \n",
      "Zambia                 768  ...   4690   4790   4890   5000   5110   5220   \n",
      "Zimbabwe               994  ...   4890   4990   5100   5210   5320   5440   \n",
      "\n",
      "                       2047   2048   2049   2050  \n",
      "country                                           \n",
      "Afghanistan            3060   3120   3190   3260  \n",
      "Angola                 9090   9280   9480   9690  \n",
      "Albania               28.5k  29.1k  29.7k  30.4k  \n",
      "Andorra               78.3k    80k  81.7k  83.4k  \n",
      "United Arab Emirates   114k   117k   119k   122k  \n",
      "...                     ...    ...    ...    ...  \n",
      "Samoa                 10.1k  10.3k  10.5k  10.7k  \n",
      "Yemen                  4260   4350   4440   4540  \n",
      "South Africa          18.5k  18.8k  19.3k  19.7k  \n",
      "Zambia                 5330   5440   5560   5680  \n",
      "Zimbabwe               5560   5670   5800   5920  \n",
      "\n",
      "[195 rows x 251 columns]\n",
      "                      1800  1801  1802  1803  1804  1805  1806  1807  1808  \\\n",
      "country                                                                      \n",
      "Afghanistan           28.2  28.2  28.2  28.2  28.2  28.2  28.1  28.1  28.1   \n",
      "Angola                27.0  27.0  27.0  27.0  27.0  27.0  27.0  27.0  27.0   \n",
      "Albania               35.4  35.4  35.4  35.4  35.4  35.4  35.4  35.4  35.4   \n",
      "Andorra                NaN   NaN   NaN   NaN   NaN   NaN   NaN   NaN   NaN   \n",
      "United Arab Emirates  30.7  30.7  30.7  30.7  30.7  30.7  30.7  30.7  30.7   \n",
      "...                    ...   ...   ...   ...   ...   ...   ...   ...   ...   \n",
      "Samoa                 25.4  25.4  25.4  25.4  25.4  25.4  25.4  25.4  25.4   \n",
      "Yemen                 23.4  23.4  23.4  23.4  23.4  23.4  23.4  23.4  23.4   \n",
      "South Africa          33.5  33.5  33.5  33.5  33.5  33.5  33.5  33.5  33.5   \n",
      "Zambia                32.6  32.6  32.6  32.6  32.6  32.6  32.6  32.6  32.6   \n",
      "Zimbabwe              33.7  33.7  33.7  33.7  33.7  33.7  33.7  33.7  33.7   \n",
      "\n",
      "                      1809  ...  2091  2092  2093  2094  2095  2096  2097  \\\n",
      "country                     ...                                             \n",
      "Afghanistan           28.1  ...  75.5  75.7  75.8  76.0  76.1  76.2  76.4   \n",
      "Angola                27.0  ...  78.8  79.0  79.1  79.2  79.3  79.5  79.6   \n",
      "Albania               35.4  ...  87.4  87.5  87.6  87.7  87.8  87.9  88.0   \n",
      "Andorra                NaN  ...   NaN   NaN   NaN   NaN   NaN   NaN   NaN   \n",
      "United Arab Emirates  30.7  ...  82.4  82.5  82.6  82.7  82.8  82.9  83.0   \n",
      "...                    ...  ...   ...   ...   ...   ...   ...   ...   ...   \n",
      "Samoa                 25.4  ...  79.8  79.9  80.0  80.1  80.3  80.4  80.5   \n",
      "Yemen                 23.4  ...  76.9  77.0  77.1  77.3  77.4  77.5  77.6   \n",
      "South Africa          33.5  ...  76.4  76.5  76.7  76.8  77.0  77.1  77.3   \n",
      "Zambia                32.6  ...  75.8  76.0  76.1  76.3  76.4  76.5  76.7   \n",
      "Zimbabwe              33.7  ...  73.3  73.4  73.5  73.7  73.8  73.9  74.0   \n",
      "\n",
      "                      2098  2099  2100  \n",
      "country                                 \n",
      "Afghanistan           76.5  76.6  76.8  \n",
      "Angola                79.7  79.9  80.0  \n",
      "Albania               88.2  88.3  88.4  \n",
      "Andorra                NaN   NaN   NaN  \n",
      "United Arab Emirates  83.1  83.2  83.3  \n",
      "...                    ...   ...   ...  \n",
      "Samoa                 80.6  80.7  80.8  \n",
      "Yemen                 77.8  77.9  78.0  \n",
      "South Africa          77.4  77.5  77.7  \n",
      "Zambia                76.8  77.0  77.1  \n",
      "Zimbabwe              74.2  74.3  74.4  \n",
      "\n",
      "[195 rows x 301 columns]\n"
     ]
    }
   ],
   "source": [
    "# index by country\n",
    "\n",
    "if df_income is None or df_lifespan is None:\n",
    "    print(\"Error: df_income or df_lifespan is not loaded.\")\n",
    "    exit()\n",
    "\n",
    "df_income.set_index('country', inplace=True)\n",
    "df_lifespan.set_index('country', inplace=True)\n",
    "\n",
    "print(df_income)\n",
    "print(df_lifespan)"
   ]
  },
  {
   "cell_type": "code",
   "execution_count": 57,
   "metadata": {},
   "outputs": [
    {
     "name": "stdout",
     "output_type": "stream",
     "text": [
      "Income dtype int64\n",
      "Lifespan dtype float64\n"
     ]
    }
   ],
   "source": [
    "# filter out data for 1900\n",
    "\n",
    "if df_income is None or df_lifespan is None:\n",
    "    print(\"Error: df_income or df_lifespan is not loaded.\")\n",
    "    exit()\n",
    "\n",
    "df_income_1900 = df_income.loc[:, '1900']\n",
    "df_lifespan_1900 = df_lifespan.loc[:, '1900']\n",
    "print(\"Income dtype\", df_income_1900.dtypes)\n",
    "print(\"Lifespan dtype\", df_lifespan_1900.dtypes)\n"
   ]
  },
  {
   "cell_type": "code",
   "execution_count": 58,
   "metadata": {},
   "outputs": [
    {
     "name": "stdout",
     "output_type": "stream",
     "text": [
      "                      income  lifespan\n",
      "country                               \n",
      "Afghanistan             1050      33.3\n",
      "Angola                   779      32.6\n",
      "Albania                 1270      34.9\n",
      "United Arab Emirates    3310      35.4\n",
      "Argentina               5330      37.2\n",
      "...                      ...       ...\n",
      "Samoa                   2090      27.4\n",
      "Yemen                   1320      26.6\n",
      "South Africa            1740      36.0\n",
      "Zambia                   957      34.3\n",
      "Zimbabwe                1110      35.3\n",
      "\n",
      "[186 rows x 2 columns]\n"
     ]
    }
   ],
   "source": [
    "# merge and clean data\n",
    "df = pd.concat([df_income_1900, df_lifespan_1900], axis='columns')\n",
    "df.columns = ['income', 'lifespan']\n",
    "df = df.dropna()\n",
    "print(df)"
   ]
  },
  {
   "cell_type": "code",
   "execution_count": 59,
   "metadata": {},
   "outputs": [
    {
     "data": {
      "image/png": "[encoded data removed]",
      "text/plain": [
       "<Figure size 640x480 with 1 Axes>"
      ]
     },
     "metadata": {},
     "output_type": "display_data"
    }
   ],
   "source": [
    "# plot the data\n",
    "\n",
    "plt.scatter(df['income'], df['lifespan'])\n",
    "plt.xlabel('Gross domestic product')\n",
    "plt.ylabel('Life expectancy')\n",
    "plt.title('1900')\n",
    "plt.show()"
   ]
  }
 ],
 "metadata": {
  "kernelspec": {
   "display_name": ".venv",
   "language": "python",
   "name": "python3"
  },
  "language_info": {
   "codemirror_mode": {
    "name": "ipython",
    "version": 3
   },
   "file_extension": ".py",
   "mimetype": "text/x-python",
   "name": "python",
   "nbconvert_exporter": "python",
   "pygments_lexer": "ipython3",
   "version": "3.10.14"
  }
 },
 "nbformat": 4,
 "nbformat_minor": 2
}
